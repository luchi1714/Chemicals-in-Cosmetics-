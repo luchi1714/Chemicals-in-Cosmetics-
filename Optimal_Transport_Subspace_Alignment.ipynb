{
  "nbformat": 4,
  "nbformat_minor": 0,
  "metadata": {
    "colab": {
      "name": "Optimal_Transport_Subspace_Alignment.ipynb",
      "provenance": [],
      "mount_file_id": "1bXn8aaVNd_xSOSu-Yc6KUCVeHf8iQ2YE",
      "authorship_tag": "ABX9TyMHY30CYcsHm1msepC4tfbM",
      "include_colab_link": true
    },
    "kernelspec": {
      "name": "python3",
      "display_name": "Python 3"
    }
  },
  "cells": [
    {
      "cell_type": "markdown",
      "metadata": {
        "id": "view-in-github",
        "colab_type": "text"
      },
      "source": [
        "<a href=\"https://colab.research.google.com/github/luchi1714/Chemicals-in-Cosmetics-/blob/master/Optimal_Transport_Subspace_Alignment.ipynb\" target=\"_parent\"><img src=\"https://colab.research.google.com/assets/colab-badge.svg\" alt=\"Open In Colab\"/></a>"
      ]
    },
    {
      "cell_type": "code",
      "metadata": {
        "id": "wL6rvRhHTFHq"
      },
      "source": [
        ""
      ],
      "execution_count": null,
      "outputs": []
    },
    {
      "cell_type": "markdown",
      "metadata": {
        "id": "SGafG_DdkVGY"
      },
      "source": [
        "#Subspace alignment using webcam and DSLR datasets\n"
      ]
    },
    {
      "cell_type": "code",
      "metadata": {
        "id": "J3zjNHSER5-p"
      },
      "source": [
        "\n",
        "import scipy.io as sio\n",
        "from sklearn.preprocessing import StandardScaler\n",
        "from sklearn.decomposition import PCA\n",
        "import numpy as np\n",
        "from sklearn import metrics\n",
        "from sklearn.neighbors import KNeighborsClassifier\n",
        "\n",
        "\n",
        "\n",
        "dataS = sio.loadmat(\"/content/drive/My Drive/ML/lab data/dslr.mat\")\n",
        "dataT = sio.loadmat(\"/content/drive/My Drive/ML/lab data/webcam.mat\")"
      ],
      "execution_count": null,
      "outputs": []
    },
    {
      "cell_type": "code",
      "metadata": {
        "id": "rXaxdmAqSVYT"
      },
      "source": [
        "def subspace_alignment(dataS,dataT, pca_components):\n",
        "\n",
        "    S = dataS[\"fts\"]\n",
        "    T = dataT[\"fts\"]\n",
        "    Sl = dataS[\"labels\"]\n",
        "    Tl = dataT[\"labels\"]\n",
        "    \n",
        "    scaler = StandardScaler()\n",
        "    S = scaler.fit_transform(S)\n",
        "    T = scaler.fit_transform(T)\n",
        "     \n",
        "    \n",
        "    \n",
        "    # =============================================================================\n",
        "    # \n",
        "    #             Exercise 1 : Subspace alignment\n",
        "    # \n",
        "    # =============================================================================\n",
        "    pca = PCA(pca_components)\n",
        "    \n",
        "    \n",
        "    Xs = pca.fit_transform(S)\n",
        "    Xs = pca.components_\n",
        "    \n",
        "    \n",
        "    Xt = pca.fit_transform(T)\n",
        "    Xt = pca.components_\n",
        "     \n",
        "    \n",
        "    M = np.dot(Xs, Xt.T)\n",
        "    \n",
        "    \n",
        "    Xa = np.dot(M.T, Xs)\n",
        "    Sa = np.dot(S, Xa.T)\n",
        "    Ta = np.dot(T, Xt.T)\n",
        "    Sl = np.ravel(Sl)\n",
        "    nn = KNeighborsClassifier(n_neighbors=1).fit(Sa, Sl)\n",
        "    \n",
        "    \n",
        "    \n",
        "    predection  = nn.predict(Ta)\n",
        "     \n",
        "    #Checking performance on the Target set\n",
        "    print('Accuracy of Subspace Alignment on Target set: {:.2f}'.format(metrics.accuracy_score(Tl, predection)))\n",
        "    \n",
        "    #Checking performance with  regular knn\n",
        "    \n",
        "    nn = KNeighborsClassifier(n_neighbors=1).fit(S, Sl)\n",
        "    predection  = nn.predict(T)\n",
        "    print('Accuracy of K-NN: {:.2f}'.format(metrics.accuracy_score(Tl, predection)))\n"
      ],
      "execution_count": null,
      "outputs": []
    },
    {
      "cell_type": "code",
      "metadata": {
        "id": "BdWwyjLFTVwT",
        "outputId": "e00a299d-8e48-4885-ef9f-7467d0c0ea6c",
        "colab": {
          "base_uri": "https://localhost:8080/"
        }
      },
      "source": [
        "subspace_alignment(dataS,dataT, 100)\n"
      ],
      "execution_count": null,
      "outputs": [
        {
          "output_type": "stream",
          "text": [
            "Accuracy of Subspace Alignment on Target set: 0.81\n",
            "Accuracy of K-NN: 0.31\n"
          ],
          "name": "stdout"
        }
      ]
    }
  ]
}